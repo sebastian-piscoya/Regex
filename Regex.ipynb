{
 "cells": [
  {
   "cell_type": "markdown",
   "id": "38e88457",
   "metadata": {},
   "source": [
    "# Python for Data Analysis II\n",
    "\n",
    "## Individual assignment"
   ]
  },
  {
   "cell_type": "markdown",
   "id": "d4790137",
   "metadata": {},
   "source": [
    "## Part 1 (regular expressions)"
   ]
  },
  {
   "cell_type": "markdown",
   "id": "5bb3e2f4",
   "metadata": {},
   "source": [
    "The goal is to extract dates of different formats from medical data.\n",
    "We should correctly identify all of the different date variants encoded in this dataset and to properly standardize and sort the dates."
   ]
  },
  {
   "cell_type": "markdown",
   "id": "a70b5ba6",
   "metadata": {},
   "source": [
    "###### or statement for  month year only, 2 and 4 digits strict"
   ]
  },
  {
   "cell_type": "markdown",
   "id": "cfab95a2",
   "metadata": {},
   "source": [
    "### Data loading"
   ]
  },
  {
   "cell_type": "code",
   "execution_count": null,
   "id": "68f7f69b",
   "metadata": {},
   "outputs": [],
   "source": [
    "import re\n",
    "with open(\"./medical_dataset.txt\") as f:\n",
    "    lines = f.readlines()"
   ]
  },
  {
   "cell_type": "markdown",
   "id": "7507bdcb",
   "metadata": {},
   "source": [
    "### String vectorization"
   ]
  },
  {
   "cell_type": "code",
   "execution_count": null,
   "id": "369ea55f",
   "metadata": {},
   "outputs": [],
   "source": [
    "import pandas as pd\n",
    "pd.options.display.max_rows = None\n",
    "df = pd.DataFrame(lines, columns=[\"text\"])\n",
    "df_original=df"
   ]
  },
  {
   "cell_type": "code",
   "execution_count": null,
   "id": "b735a024",
   "metadata": {},
   "outputs": [],
   "source": []
  },
  {
   "cell_type": "markdown",
   "id": "e44c49b4",
   "metadata": {},
   "source": [
    "### Steps\n",
    "\n",
    "Each line of the file corresponds to a medical note. Each note has a date that needs to be extracted, but each date is encoded in one of many formats.\n",
    "\n",
    "1- Have a look to the lines and take note of the different date formats in the file\n",
    "\n",
    "2- Design and check a regular expression for each of these formats. Use vectorized strings in order to avoid loops\n",
    "\n",
    "3- Try to rewrite these expressions more compactly (for example, by merging two or three regular expressions in one)\n",
    "\n",
    "4- Create a dataframe with four columns: the original text, the month, the day and the year. All three fields must be numeric and the year must be represented by 4 digits. All texts must have this data extracted.\n",
    "\n",
    "5- Save the final DataFrame to an excel file with name \"processed_dates.xlsx\"\n",
    "\n",
    "\n",
    "### Tips\n",
    "\n",
    "* Assume all dates where year is encoded in only two digits are years from the 1900's (e.g. 1/5/89 is January 5th, 1989)\n",
    "* If the day is missing (e.g. 9/2009), assume it is the first day of the month (e.g. September 1, 2009).\n",
    "* If the month is missing (e.g. 2010), assume it is the first of January of that year (e.g. January 1, 2010).\n",
    "* There could be potential typos as this is a raw, real-life derived dataset."
   ]
  },
  {
   "cell_type": "markdown",
   "id": "4920f938",
   "metadata": {},
   "source": [
    "### part 1: detecting and extracting dates in mm/dd/yy,yyyy for both numeric and alphabetic month  format**"
   ]
  },
  {
   "cell_type": "code",
   "execution_count": null,
   "id": "4b1ad1e7",
   "metadata": {},
   "outputs": [],
   "source": [
    "df_01 = df[\"text\"].str.extract(r'(?P<month>\\d{1,2})[/-](?P<day>\\d{1,2})[/-](?P<year>\\d{2,4})').dropna(how = 'any')\n",
    "i_exclude = df_01.index\n",
    "df=df[~df.index.isin(i_exclude)]\n",
    "\n",
    "\n",
    "df_02= df[\"text\"].str.extract(r'(?P<month>Jan|Feb|Mar|Apr|May|Jun|Jul|Aug|Sep|Oct|Nov|Dec)[a-zA-Z.,-]*[|,|\\s|-|.]*(?P<day>\\d{1,2})[\\s|-|.|,]*(?P<year>\\d{4})').dropna(how = 'any')\n",
    "i_exclude =df_02.index \n",
    "df=df[~df.index.isin(i_exclude)]"
   ]
  },
  {
   "cell_type": "markdown",
   "id": "84c1e1b9",
   "metadata": {},
   "source": [
    "### part2: detecting and extracting dates in day/month/yy,yyyy for both numeric and alphabetic month format**"
   ]
  },
  {
   "cell_type": "code",
   "execution_count": null,
   "id": "8c05b95d",
   "metadata": {},
   "outputs": [],
   "source": [
    "df_03= df[\"text\"].str.extract(r'(?P<day>\\d{1,2})[|\\s|-|,|.|](?P<month>Jan|Feb|Mar|Apr|May|Jun|Jul|Aug|Sep|Oct|Nov|Dec)[a-zA-Z.,-]*[\\s|-|.|,]*(?P<year>\\d{2,4})?').dropna(how = 'any')\n",
    "i_exclude =df_03.index \n",
    "df=df[~df.index.isin(i_exclude)]\n"
   ]
  },
  {
   "cell_type": "markdown",
   "id": "c66b1091",
   "metadata": {},
   "source": [
    "### part 3 extracting only month and year"
   ]
  },
  {
   "cell_type": "code",
   "execution_count": null,
   "id": "85a9e804",
   "metadata": {},
   "outputs": [],
   "source": [
    "df_04= df[\"text\"].str.extract(r'(?P<month>1[0-2]|[1-9])[\\s|-|/|,]*(?P<year>\\d{4})').dropna(how = 'any')\n",
    "df_04['day']=[1]*df_04.shape[0]\n",
    "i_exclude =df_04.index \n",
    "df=df[~df.index.isin(i_exclude)]\n",
    "\n",
    "\n",
    "df_05= df[\"text\"].str.extract(r'(?P<month>Jan|Feb|Mar|Apr|May|Jun|Jul|Aug|Sep|Oct|Nov|Dec)[a-zA-Z.,-]*[|,|\\s|-|.]*(?P<year>\\d{4})').dropna(how = 'any')\n",
    "df_05['day'] = [1]*df_05.shape[0]\n",
    "i_exclude =df_05.index \n",
    "df=df[~df.index.isin(i_exclude)]\n"
   ]
  },
  {
   "cell_type": "markdown",
   "id": "9c3e80d6",
   "metadata": {},
   "source": [
    "### Concat"
   ]
  },
  {
   "cell_type": "code",
   "execution_count": null,
   "id": "cd3a21bc",
   "metadata": {},
   "outputs": [],
   "source": [
    "result = pd.concat([df_01,df_02,df_03,df_04, df_05])\n",
    "\n",
    "result.year = [int('19'+ str(i)) if len(i)==2 else int(i) for i in result.year ]\n",
    "result.month = [str(i).strip() for i in result.month]\n",
    "\n",
    "result"
   ]
  },
  {
   "cell_type": "markdown",
   "id": "e58cfc9d",
   "metadata": {},
   "source": [
    "### Final Result"
   ]
  },
  {
   "cell_type": "code",
   "execution_count": null,
   "id": "92a6542e",
   "metadata": {},
   "outputs": [],
   "source": [
    "\n",
    "cols = [\"day\", \"month\", \"year\"]\n",
    "df_original.loc[result.index, cols] = result[cols]\n",
    "df_original\n",
    "\n"
   ]
  },
  {
   "cell_type": "code",
   "execution_count": null,
   "id": "f8f15fe3",
   "metadata": {},
   "outputs": [],
   "source": [
    "##month to numeric\n",
    "month_n=[]\n",
    "for i in df_original.month:\n",
    "    if 'Jan' in i:\n",
    "        month_n.append('1')\n",
    "    elif 'Feb' in i:\n",
    "        month_n.append('2')\n",
    "    elif 'Mar' in i:\n",
    "        month_n.append('3')\n",
    "    elif 'Apr' in i:\n",
    "        month_n.append('4')\n",
    "    elif 'May' in i:\n",
    "        month_n.append('5')\n",
    "    elif 'Jun' in i:\n",
    "        month_n.append('6')\n",
    "    elif 'Jul' in i:\n",
    "        month_n.append('7')\n",
    "    elif 'Aug' in i:\n",
    "        month_n.append('8')\n",
    "    elif 'Sep' in i:\n",
    "        month_n.append('9')\n",
    "    elif 'Oct' in i:\n",
    "        month_n.append('10')\n",
    "    elif 'Nov' in i:\n",
    "        month_n.append('11')\n",
    "    elif 'Dec' in i:\n",
    "        month_n.append('12')\n",
    "        \n",
    "    else:\n",
    "        month_n.append(i)\n",
    "       \n",
    "        \n",
    "df_original.month= month_n\n",
    "df_original.month = [str(i) for i in df_original.month]\n",
    "df_original.month = ['0'+ str(i) if len(i)==1 else str(i) for i in df_original.month]\n",
    "df_original.day   = [str(i) for i in df_original.day]\n",
    "df_original.day = ['0'+ str(i) if len(i)==1 else str(i) for i in df_original.day]\n"
   ]
  },
  {
   "cell_type": "markdown",
   "id": "caa7a242",
   "metadata": {},
   "source": [
    "#### Part1: Final Result"
   ]
  },
  {
   "cell_type": "code",
   "execution_count": null,
   "id": "e61e2420",
   "metadata": {},
   "outputs": [],
   "source": [
    "df_original"
   ]
  },
  {
   "cell_type": "markdown",
   "id": "85906bbc",
   "metadata": {},
   "source": [
    "## Part 2 (plotly)"
   ]
  },
  {
   "cell_type": "code",
   "execution_count": null,
   "id": "76548bd2",
   "metadata": {},
   "outputs": [],
   "source": [
    "import plotly.offline as py\n",
    "import plotly.graph_objs as go\n",
    "import plotly.express as px\n",
    "py.init_notebook_mode(connected=True) # this allows to display plotly graphs in Jupyter"
   ]
  },
  {
   "cell_type": "code",
   "execution_count": null,
   "id": "15fdc25f",
   "metadata": {},
   "outputs": [],
   "source": [
    "df_ = pd.read_csv(\"./dataset_housing (2).csv\")\n",
    "pd.options.display.max_columns=1000\n",
    "df_.head()"
   ]
  },
  {
   "cell_type": "markdown",
   "id": "f52aa805",
   "metadata": {},
   "source": [
    "Explore using plotly / plotly express the following questions:\n",
    "\n",
    "* Is there any relation between neighborhood and price?\n",
    "\n",
    "* Is there any relation between neighborhood and year built?\n",
    "\n",
    "* How overall quality, lot area, year built and price interact with each other?\n",
    "\n",
    "* How quality, lot area, year built and price interact with each other and evolve in time?"
   ]
  },
  {
   "cell_type": "markdown",
   "id": "5555f98b",
   "metadata": {},
   "source": [
    "### Is there any relation between neighborhood and price?"
   ]
  },
  {
   "cell_type": "code",
   "execution_count": null,
   "id": "28580615",
   "metadata": {},
   "outputs": [],
   "source": [
    "import plotly.express as px\n",
    "df_1=df_[['Neighborhood', 'SalePrice']]\n",
    "fig = px.scatter(df_1, x=\"Neighborhood\", y=\"SalePrice\", title = 'Sale Price by Neighborhood')\n",
    "fig.update_xaxes(categoryorder = 'median ascending')\n",
    "\n",
    "py.iplot(fig)\n",
    "print('Ordered by median, it is clear that neighborhoods located on the right side of the x-axis')\n",
    "print('appear to have properties with higher SalePrice while properties located in the left side of the x-axis')\n",
    "print('appear to have properties with lower Sale Price')"
   ]
  },
  {
   "cell_type": "markdown",
   "id": "1dcb18a5",
   "metadata": {},
   "source": [
    "\n"
   ]
  },
  {
   "cell_type": "markdown",
   "id": "012f1b9a",
   "metadata": {},
   "source": [
    "### Is there any relation between neighborhood and year built?\n"
   ]
  },
  {
   "cell_type": "code",
   "execution_count": null,
   "id": "f97fdec2",
   "metadata": {},
   "outputs": [],
   "source": [
    "import plotly.express as px\n",
    "df_2=df_[['Neighborhood', 'YearBuilt']]\n",
    "fig = px.box(df_2, x=\"Neighborhood\", y=\"YearBuilt\", title = 'Year built by Neighborhood')\n",
    "fig.update_xaxes(categoryorder = 'median ascending')\n",
    "py.iplot(fig)\n",
    "print(' ')\n",
    "print('The neighborhood betwwen OldTown and BrDale contains houses for all years built but the median is around 1960')\n",
    "print('The neighborhood betwwen BrDale and Sawyer have contains houses for 1960 and later but the median is around 1980')\n",
    "print('the Neighborhoods between Sawyer and NridgeHt have a median of 2000s, having the most recent house in the dataset')"
   ]
  },
  {
   "cell_type": "markdown",
   "id": "7a71f93e",
   "metadata": {},
   "source": [
    "### How overall quality, lot area, year built and price interact with each other?"
   ]
  },
  {
   "cell_type": "code",
   "execution_count": null,
   "id": "b0ccceb2",
   "metadata": {},
   "outputs": [],
   "source": [
    "df_3=df_[['OverallQual', 'LotArea','YearBuilt', 'SalePrice']]\n",
    "fig = px.scatter_matrix(df_3)\n",
    "fig.show()\n",
    "print(' ')\n",
    "print('Overall Quality and SalePrice has a clear positive relationship, the higher the quality, the higher the price')\n",
    "print('SalePrice and year Built have a clear trend, houses more recently built havee a higher Sale Price')\n",
    "print('The neighborhood betwwen BrDale and Sawyer have contains houses for 1960 and later but the median is around 1980')\n",
    "print('the Neighborhoods between Sawyer and NridgeHt have a median of 2000s, having the most recent house in the dataset')"
   ]
  },
  {
   "cell_type": "markdown",
   "id": "ecc85bef",
   "metadata": {},
   "source": [
    "### How quality, lot area, year built and price interact with each other and evolve in time?"
   ]
  },
  {
   "cell_type": "code",
   "execution_count": null,
   "id": "fe15fbcf",
   "metadata": {},
   "outputs": [],
   "source": [
    "fig = px.scatter(\n",
    "    df_, x=\"SalePrice\", y=\"OverallQual\", animation_frame=\"YrSold\",\n",
    "    animation_group=\"LotArea\", size=\"SalePrice\", color=\"YearBuilt\",\n",
    "    hover_name=\"LotArea\", log_x=False, size_max=55,\n",
    "    range_x=[20000,1000000], range_y=[1, 15]\n",
    ")\n",
    "\n",
    "py.iplot(fig)\n",
    "\n",
    "print(' ')\n",
    "print('Over the years, houses Overall Quality and SalePrice have mantained a clear positive relationship, the higher the quality, the higher the price')\n"
   ]
  },
  {
   "cell_type": "code",
   "execution_count": null,
   "id": "83a3b3ff",
   "metadata": {},
   "outputs": [],
   "source": []
  },
  {
   "cell_type": "code",
   "execution_count": null,
   "id": "76ba0108",
   "metadata": {},
   "outputs": [],
   "source": []
  },
  {
   "cell_type": "code",
   "execution_count": null,
   "id": "65bbbc87",
   "metadata": {},
   "outputs": [],
   "source": []
  },
  {
   "cell_type": "code",
   "execution_count": null,
   "id": "81c7146e",
   "metadata": {},
   "outputs": [],
   "source": []
  }
 ],
 "metadata": {
  "environment": {
   "name": "common-cpu.m68",
   "type": "gcloud",
   "uri": "gcr.io/deeplearning-platform-release/base-cpu:m68"
  },
  "kernelspec": {
   "display_name": "Python 3 (ipykernel)",
   "language": "python",
   "name": "python3"
  },
  "language_info": {
   "codemirror_mode": {
    "name": "ipython",
    "version": 3
   },
   "file_extension": ".py",
   "mimetype": "text/x-python",
   "name": "python",
   "nbconvert_exporter": "python",
   "pygments_lexer": "ipython3",
   "version": "3.9.12"
  }
 },
 "nbformat": 4,
 "nbformat_minor": 5
}
